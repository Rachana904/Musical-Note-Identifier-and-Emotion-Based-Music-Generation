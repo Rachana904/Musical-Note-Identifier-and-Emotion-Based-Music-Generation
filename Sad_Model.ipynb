{
  "nbformat": 4,
  "nbformat_minor": 0,
  "metadata": {
    "colab": {
      "provenance": []
    },
    "kernelspec": {
      "name": "python3",
      "display_name": "Python 3"
    },
    "language_info": {
      "name": "python"
    }
  },
  "cells": [
    {
      "cell_type": "code",
      "source": [
        "from google.colab import drive\n",
        "drive.mount('/content/drive')\n",
        "\n",
        "import zipfile\n",
        "import os\n",
        "import pandas as pd\n",
        "import numpy as np\n",
        "import tensorflow as tf\n",
        "from music21 import converter, note, stream\n",
        "from sklearn.model_selection import train_test_split\n",
        "from tensorflow.keras.models import Sequential\n",
        "from tensorflow.keras.layers import LSTM, Dense, Dropout\n",
        "from tensorflow.keras.callbacks import ModelCheckpoint\n",
        "\n",
        "# Extract EMOPIA dataset\n",
        "zip_path = \"/content/drive/My Drive/EMOPIA_1.0.zip\"\n",
        "extract_path = \"/content/EMOPIA\"\n",
        "with zipfile.ZipFile(zip_path, 'r') as zip_ref:\n",
        "    zip_ref.extractall(extract_path)\n",
        "print(\"Dataset extracted to:\", extract_path)"
      ],
      "metadata": {
        "colab": {
          "base_uri": "https://localhost:8080/"
        },
        "id": "vYsr2IXIl69J",
        "outputId": "ac0f6713-c7c5-43a8-e88d-a2981bfe889c"
      },
      "execution_count": null,
      "outputs": [
        {
          "output_type": "stream",
          "name": "stdout",
          "text": [
            "Drive already mounted at /content/drive; to attempt to forcibly remount, call drive.mount(\"/content/drive\", force_remount=True).\n",
            "Dataset extracted to: /content/EMOPIA\n"
          ]
        }
      ]
    },
    {
      "cell_type": "code",
      "source": [
        "# Paths to dataset files\n",
        "dataset_path = \"/content/EMOPIA/EMOPIA_1.0\"\n",
        "midi_path = os.path.join(dataset_path, \"midis\")\n",
        "label_csv_path = os.path.join(dataset_path, \"label.csv\")\n",
        "\n",
        "# Load labels\n",
        "labels_df = pd.read_csv(label_csv_path)\n",
        "labels_df.columns = labels_df.columns.str.strip()  # Remove whitespace\n",
        "labels_df['emotion'] = labels_df['4Q'].apply(lambda q: \"happy\" if q in [1, 4] else \"sad\")\n",
        "\n",
        "# Filter only sad music\n",
        "sad_df = labels_df[labels_df['emotion'] == 'sad']\n"
      ],
      "metadata": {
        "id": "DNsdHWh7lpdC"
      },
      "execution_count": null,
      "outputs": []
    },
    {
      "cell_type": "code",
      "source": [
        "# Function to extract notes from a MIDI file\n",
        "def extract_notes(file_path):\n",
        "    midi_stream = converter.parse(file_path)\n",
        "    notes = []\n",
        "    for element in midi_stream.flatten().notes:\n",
        "        if isinstance(element, note.Note):\n",
        "            notes.append(str(element.pitch))\n",
        "        elif isinstance(element, note.Rest):\n",
        "            notes.append('rest')\n",
        "    return notes\n",
        "\n",
        "# Extract notes from sad MIDI files\n",
        "all_notes = []\n",
        "for midi_file in os.listdir(midi_path):\n",
        "    if midi_file.endswith('.mid'):\n",
        "        file_id = midi_file.split('.')[0]\n",
        "        if file_id in sad_df['ID'].values:\n",
        "            file_path = os.path.join(midi_path, midi_file)\n",
        "            notes = extract_notes(file_path)\n",
        "            all_notes.append(notes)\n"
      ],
      "metadata": {
        "id": "-9TxkJ29mBkz"
      },
      "execution_count": null,
      "outputs": []
    },
    {
      "cell_type": "code",
      "source": [
        "# Create mappings and prepare sequences\n",
        "unique_notes = sorted(set(note for notes in all_notes for note in notes))\n",
        "note_to_int = {note: i for i, note in enumerate(unique_notes)}\n",
        "sequence_length = 100\n",
        "\n",
        "# Convert notes to sequences\n",
        "network_input = []\n",
        "for notes in all_notes:\n",
        "    for i in range(len(notes) - sequence_length):\n",
        "        network_input.append([note_to_int[note] for note in notes[i:i + sequence_length]])\n",
        "\n",
        "# Prepare data for LSTM\n",
        "X = np.array(network_input)\n",
        "X = np.reshape(X, (X.shape[0], sequence_length, 1)) / float(len(unique_notes))\n",
        "y = np.array([note_to_int[notes[i + sequence_length]] for notes in all_notes for i in range(len(notes) - sequence_length)])\n",
        "y = tf.keras.utils.to_categorical(y, num_classes=len(unique_notes))\n"
      ],
      "metadata": {
        "id": "dEXeBuoNmJ5M"
      },
      "execution_count": null,
      "outputs": []
    },
    {
      "cell_type": "code",
      "source": [
        "X_train, X_val, y_train, y_val = train_test_split(X, y, test_size=0.2, random_state=42)\n"
      ],
      "metadata": {
        "id": "gclBOmbCmOTB"
      },
      "execution_count": null,
      "outputs": []
    },
    {
      "cell_type": "code",
      "source": [
        "model = Sequential([\n",
        "    LSTM(256, input_shape=(X.shape[1], X.shape[2]), return_sequences=True),\n",
        "    Dropout(0.3),\n",
        "    LSTM(256),\n",
        "    Dropout(0.3),\n",
        "    Dense(len(unique_notes), activation='softmax')\n",
        "])\n",
        "model.compile(loss='categorical_crossentropy', optimizer='adam')\n",
        "model.summary()\n"
      ],
      "metadata": {
        "colab": {
          "base_uri": "https://localhost:8080/",
          "height": 359
        },
        "id": "A3B4KDe5mRQ0",
        "outputId": "b81ca820-37c3-4415-cbfb-5b117377afbc"
      },
      "execution_count": null,
      "outputs": [
        {
          "output_type": "stream",
          "name": "stderr",
          "text": [
            "/usr/local/lib/python3.11/dist-packages/keras/src/layers/rnn/rnn.py:204: UserWarning: Do not pass an `input_shape`/`input_dim` argument to a layer. When using Sequential models, prefer using an `Input(shape)` object as the first layer in the model instead.\n",
            "  super().__init__(**kwargs)\n"
          ]
        },
        {
          "output_type": "display_data",
          "data": {
            "text/plain": [
              "\u001b[1mModel: \"sequential\"\u001b[0m\n"
            ],
            "text/html": [
              "<pre style=\"white-space:pre;overflow-x:auto;line-height:normal;font-family:Menlo,'DejaVu Sans Mono',consolas,'Courier New',monospace\"><span style=\"font-weight: bold\">Model: \"sequential\"</span>\n",
              "</pre>\n"
            ]
          },
          "metadata": {}
        },
        {
          "output_type": "display_data",
          "data": {
            "text/plain": [
              "┏━━━━━━━━━━━━━━━━━━━━━━━━━━━━━━━━━━━━━━┳━━━━━━━━━━━━━━━━━━━━━━━━━━━━━┳━━━━━━━━━━━━━━━━━┓\n",
              "┃\u001b[1m \u001b[0m\u001b[1mLayer (type)                        \u001b[0m\u001b[1m \u001b[0m┃\u001b[1m \u001b[0m\u001b[1mOutput Shape               \u001b[0m\u001b[1m \u001b[0m┃\u001b[1m \u001b[0m\u001b[1m        Param #\u001b[0m\u001b[1m \u001b[0m┃\n",
              "┡━━━━━━━━━━━━━━━━━━━━━━━━━━━━━━━━━━━━━━╇━━━━━━━━━━━━━━━━━━━━━━━━━━━━━╇━━━━━━━━━━━━━━━━━┩\n",
              "│ lstm (\u001b[38;5;33mLSTM\u001b[0m)                          │ (\u001b[38;5;45mNone\u001b[0m, \u001b[38;5;34m100\u001b[0m, \u001b[38;5;34m256\u001b[0m)            │         \u001b[38;5;34m264,192\u001b[0m │\n",
              "├──────────────────────────────────────┼─────────────────────────────┼─────────────────┤\n",
              "│ dropout (\u001b[38;5;33mDropout\u001b[0m)                    │ (\u001b[38;5;45mNone\u001b[0m, \u001b[38;5;34m100\u001b[0m, \u001b[38;5;34m256\u001b[0m)            │               \u001b[38;5;34m0\u001b[0m │\n",
              "├──────────────────────────────────────┼─────────────────────────────┼─────────────────┤\n",
              "│ lstm_1 (\u001b[38;5;33mLSTM\u001b[0m)                        │ (\u001b[38;5;45mNone\u001b[0m, \u001b[38;5;34m256\u001b[0m)                 │         \u001b[38;5;34m525,312\u001b[0m │\n",
              "├──────────────────────────────────────┼─────────────────────────────┼─────────────────┤\n",
              "│ dropout_1 (\u001b[38;5;33mDropout\u001b[0m)                  │ (\u001b[38;5;45mNone\u001b[0m, \u001b[38;5;34m256\u001b[0m)                 │               \u001b[38;5;34m0\u001b[0m │\n",
              "├──────────────────────────────────────┼─────────────────────────────┼─────────────────┤\n",
              "│ dense (\u001b[38;5;33mDense\u001b[0m)                        │ (\u001b[38;5;45mNone\u001b[0m, \u001b[38;5;34m83\u001b[0m)                  │          \u001b[38;5;34m21,331\u001b[0m │\n",
              "└──────────────────────────────────────┴─────────────────────────────┴─────────────────┘\n"
            ],
            "text/html": [
              "<pre style=\"white-space:pre;overflow-x:auto;line-height:normal;font-family:Menlo,'DejaVu Sans Mono',consolas,'Courier New',monospace\">┏━━━━━━━━━━━━━━━━━━━━━━━━━━━━━━━━━━━━━━┳━━━━━━━━━━━━━━━━━━━━━━━━━━━━━┳━━━━━━━━━━━━━━━━━┓\n",
              "┃<span style=\"font-weight: bold\"> Layer (type)                         </span>┃<span style=\"font-weight: bold\"> Output Shape                </span>┃<span style=\"font-weight: bold\">         Param # </span>┃\n",
              "┡━━━━━━━━━━━━━━━━━━━━━━━━━━━━━━━━━━━━━━╇━━━━━━━━━━━━━━━━━━━━━━━━━━━━━╇━━━━━━━━━━━━━━━━━┩\n",
              "│ lstm (<span style=\"color: #0087ff; text-decoration-color: #0087ff\">LSTM</span>)                          │ (<span style=\"color: #00d7ff; text-decoration-color: #00d7ff\">None</span>, <span style=\"color: #00af00; text-decoration-color: #00af00\">100</span>, <span style=\"color: #00af00; text-decoration-color: #00af00\">256</span>)            │         <span style=\"color: #00af00; text-decoration-color: #00af00\">264,192</span> │\n",
              "├──────────────────────────────────────┼─────────────────────────────┼─────────────────┤\n",
              "│ dropout (<span style=\"color: #0087ff; text-decoration-color: #0087ff\">Dropout</span>)                    │ (<span style=\"color: #00d7ff; text-decoration-color: #00d7ff\">None</span>, <span style=\"color: #00af00; text-decoration-color: #00af00\">100</span>, <span style=\"color: #00af00; text-decoration-color: #00af00\">256</span>)            │               <span style=\"color: #00af00; text-decoration-color: #00af00\">0</span> │\n",
              "├──────────────────────────────────────┼─────────────────────────────┼─────────────────┤\n",
              "│ lstm_1 (<span style=\"color: #0087ff; text-decoration-color: #0087ff\">LSTM</span>)                        │ (<span style=\"color: #00d7ff; text-decoration-color: #00d7ff\">None</span>, <span style=\"color: #00af00; text-decoration-color: #00af00\">256</span>)                 │         <span style=\"color: #00af00; text-decoration-color: #00af00\">525,312</span> │\n",
              "├──────────────────────────────────────┼─────────────────────────────┼─────────────────┤\n",
              "│ dropout_1 (<span style=\"color: #0087ff; text-decoration-color: #0087ff\">Dropout</span>)                  │ (<span style=\"color: #00d7ff; text-decoration-color: #00d7ff\">None</span>, <span style=\"color: #00af00; text-decoration-color: #00af00\">256</span>)                 │               <span style=\"color: #00af00; text-decoration-color: #00af00\">0</span> │\n",
              "├──────────────────────────────────────┼─────────────────────────────┼─────────────────┤\n",
              "│ dense (<span style=\"color: #0087ff; text-decoration-color: #0087ff\">Dense</span>)                        │ (<span style=\"color: #00d7ff; text-decoration-color: #00d7ff\">None</span>, <span style=\"color: #00af00; text-decoration-color: #00af00\">83</span>)                  │          <span style=\"color: #00af00; text-decoration-color: #00af00\">21,331</span> │\n",
              "└──────────────────────────────────────┴─────────────────────────────┴─────────────────┘\n",
              "</pre>\n"
            ]
          },
          "metadata": {}
        },
        {
          "output_type": "display_data",
          "data": {
            "text/plain": [
              "\u001b[1m Total params: \u001b[0m\u001b[38;5;34m810,835\u001b[0m (3.09 MB)\n"
            ],
            "text/html": [
              "<pre style=\"white-space:pre;overflow-x:auto;line-height:normal;font-family:Menlo,'DejaVu Sans Mono',consolas,'Courier New',monospace\"><span style=\"font-weight: bold\"> Total params: </span><span style=\"color: #00af00; text-decoration-color: #00af00\">810,835</span> (3.09 MB)\n",
              "</pre>\n"
            ]
          },
          "metadata": {}
        },
        {
          "output_type": "display_data",
          "data": {
            "text/plain": [
              "\u001b[1m Trainable params: \u001b[0m\u001b[38;5;34m810,835\u001b[0m (3.09 MB)\n"
            ],
            "text/html": [
              "<pre style=\"white-space:pre;overflow-x:auto;line-height:normal;font-family:Menlo,'DejaVu Sans Mono',consolas,'Courier New',monospace\"><span style=\"font-weight: bold\"> Trainable params: </span><span style=\"color: #00af00; text-decoration-color: #00af00\">810,835</span> (3.09 MB)\n",
              "</pre>\n"
            ]
          },
          "metadata": {}
        },
        {
          "output_type": "display_data",
          "data": {
            "text/plain": [
              "\u001b[1m Non-trainable params: \u001b[0m\u001b[38;5;34m0\u001b[0m (0.00 B)\n"
            ],
            "text/html": [
              "<pre style=\"white-space:pre;overflow-x:auto;line-height:normal;font-family:Menlo,'DejaVu Sans Mono',consolas,'Courier New',monospace\"><span style=\"font-weight: bold\"> Non-trainable params: </span><span style=\"color: #00af00; text-decoration-color: #00af00\">0</span> (0.00 B)\n",
              "</pre>\n"
            ]
          },
          "metadata": {}
        }
      ]
    },
    {
      "cell_type": "code",
      "source": [
        "from keras.callbacks import ModelCheckpoint, EarlyStopping\n",
        "\n",
        "model_checkpoint = ModelCheckpoint(\n",
        "    \"/content/drive/My Drive/emopia_project/sad_model.keras\",\n",
        "    monitor=\"val_loss\",\n",
        "    save_best_only=True\n",
        ")\n",
        "\n",
        "early_stopping = EarlyStopping(\n",
        "    monitor=\"val_loss\",\n",
        "    patience=3,\n",
        "    restore_best_weights=True\n",
        ")\n",
        "\n",
        "model.fit(\n",
        "    X_train, y_train,\n",
        "    epochs=10,\n",
        "    batch_size=64,\n",
        "    validation_data=(X_val, y_val),\n",
        "    callbacks=[model_checkpoint, early_stopping]\n",
        ")\n"
      ],
      "metadata": {
        "colab": {
          "base_uri": "https://localhost:8080/"
        },
        "id": "sm2_8F5JmSUa",
        "outputId": "181f3a5e-b70c-4b13-9207-90737efd2737"
      },
      "execution_count": null,
      "outputs": [
        {
          "output_type": "stream",
          "name": "stdout",
          "text": [
            "Epoch 1/10\n",
            "\u001b[1m609/609\u001b[0m \u001b[32m━━━━━━━━━━━━━━━━━━━━\u001b[0m\u001b[37m\u001b[0m \u001b[1m811s\u001b[0m 1s/step - loss: 4.0755 - val_loss: 3.9523\n",
            "Epoch 2/10\n",
            "\u001b[1m609/609\u001b[0m \u001b[32m━━━━━━━━━━━━━━━━━━━━\u001b[0m\u001b[37m\u001b[0m \u001b[1m870s\u001b[0m 1s/step - loss: 3.9772 - val_loss: 3.9333\n",
            "Epoch 3/10\n",
            "\u001b[1m609/609\u001b[0m \u001b[32m━━━━━━━━━━━━━━━━━━━━\u001b[0m\u001b[37m\u001b[0m \u001b[1m868s\u001b[0m 1s/step - loss: 3.9563 - val_loss: 3.9341\n",
            "Epoch 4/10\n",
            "\u001b[1m609/609\u001b[0m \u001b[32m━━━━━━━━━━━━━━━━━━━━\u001b[0m\u001b[37m\u001b[0m \u001b[1m856s\u001b[0m 1s/step - loss: 3.9374 - val_loss: 3.9081\n",
            "Epoch 5/10\n",
            "\u001b[1m609/609\u001b[0m \u001b[32m━━━━━━━━━━━━━━━━━━━━\u001b[0m\u001b[37m\u001b[0m \u001b[1m827s\u001b[0m 1s/step - loss: 3.9166 - val_loss: 3.9265\n",
            "Epoch 6/10\n",
            "\u001b[1m609/609\u001b[0m \u001b[32m━━━━━━━━━━━━━━━━━━━━\u001b[0m\u001b[37m\u001b[0m \u001b[1m781s\u001b[0m 1s/step - loss: 3.9213 - val_loss: 3.9015\n",
            "Epoch 7/10\n",
            "\u001b[1m609/609\u001b[0m \u001b[32m━━━━━━━━━━━━━━━━━━━━\u001b[0m\u001b[37m\u001b[0m \u001b[1m782s\u001b[0m 1s/step - loss: 3.8957 - val_loss: 3.8602\n",
            "Epoch 8/10\n",
            "\u001b[1m609/609\u001b[0m \u001b[32m━━━━━━━━━━━━━━━━━━━━\u001b[0m\u001b[37m\u001b[0m \u001b[1m800s\u001b[0m 1s/step - loss: 3.8686 - val_loss: 3.7912\n",
            "Epoch 9/10\n",
            "\u001b[1m609/609\u001b[0m \u001b[32m━━━━━━━━━━━━━━━━━━━━\u001b[0m\u001b[37m\u001b[0m \u001b[1m806s\u001b[0m 1s/step - loss: 3.7870 - val_loss: 3.7387\n",
            "Epoch 10/10\n",
            "\u001b[1m609/609\u001b[0m \u001b[32m━━━━━━━━━━━━━━━━━━━━\u001b[0m\u001b[37m\u001b[0m \u001b[1m768s\u001b[0m 1s/step - loss: 3.7030 - val_loss: 3.6106\n"
          ]
        },
        {
          "output_type": "execute_result",
          "data": {
            "text/plain": [
              "<keras.src.callbacks.history.History at 0x7920f33a4210>"
            ]
          },
          "metadata": {},
          "execution_count": 9
        }
      ]
    },
    {
      "cell_type": "code",
      "source": [
        "import pickle\n",
        "\n",
        "with open(\"/content/drive/My Drive/emopia_project/sad_metadata.pkl\", \"wb\") as f:\n",
        "    pickle.dump({\"unique_notes\": unique_notes, \"note_to_int\": note_to_int}, f)\n"
      ],
      "metadata": {
        "id": "7FH4aT1tHira"
      },
      "execution_count": null,
      "outputs": []
    },
    {
      "cell_type": "code",
      "source": [
        "model.fit(\n",
        "    X_train, y_train,\n",
        "    epochs=10,  # Train for 10 more epochs\n",
        "    batch_size=64,\n",
        "    validation_data=(X_val, y_val),\n",
        "    callbacks=[model_checkpoint, early_stopping]  # Reuse the same callbacks\n",
        ")\n",
        "\n",
        "print(\"Training for additional 10 epochs completed!\")\n"
      ],
      "metadata": {
        "colab": {
          "base_uri": "https://localhost:8080/"
        },
        "id": "qhkh5XikIUyG",
        "outputId": "efb1ca53-c38d-4d32-e861-07e5ee0d30d0"
      },
      "execution_count": null,
      "outputs": [
        {
          "output_type": "stream",
          "name": "stdout",
          "text": [
            "Epoch 1/10\n",
            "\u001b[1m609/609\u001b[0m \u001b[32m━━━━━━━━━━━━━━━━━━━━\u001b[0m\u001b[37m\u001b[0m \u001b[1m750s\u001b[0m 1s/step - loss: 3.6054 - val_loss: 3.5693\n",
            "Epoch 2/10\n",
            "\u001b[1m609/609\u001b[0m \u001b[32m━━━━━━━━━━━━━━━━━━━━\u001b[0m\u001b[37m\u001b[0m \u001b[1m814s\u001b[0m 1s/step - loss: 3.5202 - val_loss: 3.4703\n",
            "Epoch 3/10\n",
            "\u001b[1m609/609\u001b[0m \u001b[32m━━━━━━━━━━━━━━━━━━━━\u001b[0m\u001b[37m\u001b[0m \u001b[1m795s\u001b[0m 1s/step - loss: 3.4425 - val_loss: 3.4052\n",
            "Epoch 4/10\n",
            "\u001b[1m609/609\u001b[0m \u001b[32m━━━━━━━━━━━━━━━━━━━━\u001b[0m\u001b[37m\u001b[0m \u001b[1m815s\u001b[0m 1s/step - loss: 3.3573 - val_loss: 3.3322\n",
            "Epoch 5/10\n",
            "\u001b[1m609/609\u001b[0m \u001b[32m━━━━━━━━━━━━━━━━━━━━\u001b[0m\u001b[37m\u001b[0m \u001b[1m763s\u001b[0m 1s/step - loss: 3.2800 - val_loss: 3.3000\n",
            "Epoch 6/10\n",
            "\u001b[1m609/609\u001b[0m \u001b[32m━━━━━━━━━━━━━━━━━━━━\u001b[0m\u001b[37m\u001b[0m \u001b[1m799s\u001b[0m 1s/step - loss: 3.2065 - val_loss: 3.2388\n",
            "Epoch 7/10\n",
            "\u001b[1m609/609\u001b[0m \u001b[32m━━━━━━━━━━━━━━━━━━━━\u001b[0m\u001b[37m\u001b[0m \u001b[1m800s\u001b[0m 1s/step - loss: 3.1400 - val_loss: 3.2089\n",
            "Epoch 8/10\n",
            "\u001b[1m609/609\u001b[0m \u001b[32m━━━━━━━━━━━━━━━━━━━━\u001b[0m\u001b[37m\u001b[0m \u001b[1m824s\u001b[0m 1s/step - loss: 3.0688 - val_loss: 3.1723\n",
            "Epoch 9/10\n",
            "\u001b[1m609/609\u001b[0m \u001b[32m━━━━━━━━━━━━━━━━━━━━\u001b[0m\u001b[37m\u001b[0m \u001b[1m744s\u001b[0m 1s/step - loss: 3.0168 - val_loss: 3.1481\n",
            "Epoch 10/10\n",
            "\u001b[1m609/609\u001b[0m \u001b[32m━━━━━━━━━━━━━━━━━━━━\u001b[0m\u001b[37m\u001b[0m \u001b[1m811s\u001b[0m 1s/step - loss: 2.9559 - val_loss: 3.1293\n",
            "Training for additional 10 epochs completed!\n"
          ]
        }
      ]
    },
    {
      "cell_type": "code",
      "source": [
        "from keras.models import load_model\n",
        "\n",
        "model_path = \"/content/drive/My Drive/emopia_project/sad_model.keras\"\n",
        "model = load_model(model_path)\n",
        "print(\"Sad model loaded successfully!\")\n"
      ],
      "metadata": {
        "colab": {
          "base_uri": "https://localhost:8080/"
        },
        "id": "77P7ybvynGZ1",
        "outputId": "af78d69f-6c32-42f3-93f6-9d6cc86ebe28"
      },
      "execution_count": null,
      "outputs": [
        {
          "output_type": "stream",
          "name": "stdout",
          "text": [
            "Sad model loaded successfully!\n"
          ]
        }
      ]
    },
    {
      "cell_type": "code",
      "source": [
        "from keras.callbacks import ModelCheckpoint, EarlyStopping\n",
        "\n",
        "# Define callbacks again\n",
        "model_checkpoint = ModelCheckpoint(\n",
        "    \"/content/drive/My Drive/emopia_project/sad_model.keras\",  # Same path\n",
        "    monitor=\"val_loss\",\n",
        "    save_best_only=True\n",
        ")\n",
        "\n",
        "early_stopping = EarlyStopping(\n",
        "    monitor=\"val_loss\",\n",
        "    patience=3,  # You can adjust this if needed\n",
        "    restore_best_weights=True\n",
        ")\n",
        "\n",
        "# Continue training\n",
        "history = model.fit(\n",
        "    X_train, y_train,\n",
        "    epochs=10,  # Additional 10 epochs\n",
        "    batch_size=64,\n",
        "    validation_data=(X_val, y_val),\n",
        "    callbacks=[model_checkpoint, early_stopping]\n",
        ")\n",
        "\n",
        "print(\"Training for additional 10 epochs completed!\")\n"
      ],
      "metadata": {
        "colab": {
          "base_uri": "https://localhost:8080/"
        },
        "id": "aDvElRcXnJUO",
        "outputId": "84153267-a95b-44ad-89c6-511afaf9d7f7"
      },
      "execution_count": null,
      "outputs": [
        {
          "output_type": "stream",
          "name": "stdout",
          "text": [
            "Epoch 1/10\n",
            "\u001b[1m609/609\u001b[0m \u001b[32m━━━━━━━━━━━━━━━━━━━━\u001b[0m\u001b[37m\u001b[0m \u001b[1m766s\u001b[0m 1s/step - loss: 2.9570 - val_loss: 3.1042\n",
            "Epoch 2/10\n",
            "\u001b[1m609/609\u001b[0m \u001b[32m━━━━━━━━━━━━━━━━━━━━\u001b[0m\u001b[37m\u001b[0m \u001b[1m796s\u001b[0m 1s/step - loss: 2.8836 - val_loss: 3.0836\n",
            "Epoch 3/10\n",
            "\u001b[1m609/609\u001b[0m \u001b[32m━━━━━━━━━━━━━━━━━━━━\u001b[0m\u001b[37m\u001b[0m \u001b[1m813s\u001b[0m 1s/step - loss: 2.8134 - val_loss: 3.0859\n",
            "Epoch 4/10\n",
            "\u001b[1m609/609\u001b[0m \u001b[32m━━━━━━━━━━━━━━━━━━━━\u001b[0m\u001b[37m\u001b[0m \u001b[1m799s\u001b[0m 1s/step - loss: 2.7726 - val_loss: 3.0804\n",
            "Epoch 5/10\n",
            "\u001b[1m609/609\u001b[0m \u001b[32m━━━━━━━━━━━━━━━━━━━━\u001b[0m\u001b[37m\u001b[0m \u001b[1m800s\u001b[0m 1s/step - loss: 2.7418 - val_loss: 3.0544\n",
            "Epoch 6/10\n",
            "\u001b[1m609/609\u001b[0m \u001b[32m━━━━━━━━━━━━━━━━━━━━\u001b[0m\u001b[37m\u001b[0m \u001b[1m765s\u001b[0m 1s/step - loss: 2.7050 - val_loss: 3.0498\n",
            "Epoch 7/10\n",
            "\u001b[1m609/609\u001b[0m \u001b[32m━━━━━━━━━━━━━━━━━━━━\u001b[0m\u001b[37m\u001b[0m \u001b[1m805s\u001b[0m 1s/step - loss: 2.6843 - val_loss: 3.0579\n",
            "Epoch 8/10\n",
            "\u001b[1m609/609\u001b[0m \u001b[32m━━━━━━━━━━━━━━━━━━━━\u001b[0m\u001b[37m\u001b[0m \u001b[1m807s\u001b[0m 1s/step - loss: 2.6364 - val_loss: 3.0435\n",
            "Epoch 9/10\n",
            "\u001b[1m609/609\u001b[0m \u001b[32m━━━━━━━━━━━━━━━━━━━━\u001b[0m\u001b[37m\u001b[0m \u001b[1m791s\u001b[0m 1s/step - loss: 2.6050 - val_loss: 3.0312\n",
            "Epoch 10/10\n",
            "\u001b[1m609/609\u001b[0m \u001b[32m━━━━━━━━━━━━━━━━━━━━\u001b[0m\u001b[37m\u001b[0m \u001b[1m763s\u001b[0m 1s/step - loss: 2.5923 - val_loss: 3.0400\n",
            "Training for additional 10 epochs completed!\n"
          ]
        }
      ]
    },
    {
      "cell_type": "code",
      "source": [
        "import numpy as np\n",
        "\n",
        "# Load the saved sad model\n",
        "from keras.models import load_model\n",
        "model = load_model(\"/content/drive/My Drive/emopia_project/sad_model.keras\")\n",
        "print(\"Sad model loaded!\")\n",
        "\n",
        "# Generate a seed sequence\n",
        "seed_index = np.random.randint(0, len(X_val) - 1)  # Random seed from validation data\n",
        "seed_sequence = X_val[seed_index]  # Shape: (sequence_length, input_dim)\n",
        "print(\"Seed sequence selected!\")\n",
        "\n",
        "# Define temperature scaling function\n",
        "def sample_with_temperature(predictions, temperature=1.0):\n",
        "    predictions = np.log(predictions + 1e-9) / temperature  # Avoid log(0) errors\n",
        "    exp_preds = np.exp(predictions)\n",
        "    probabilities = exp_preds / np.sum(exp_preds)\n",
        "    return np.random.choice(len(probabilities), p=probabilities)\n",
        "\n",
        "# Generate music with temperature scaling\n",
        "generated_notes = []\n",
        "current_sequence = seed_sequence\n",
        "temperature = 1.2  # Adjust for diversity (higher = more randomness)\n",
        "\n",
        "for _ in range(100):  # Generate 100 notes\n",
        "    current_sequence = np.reshape(current_sequence, (1, current_sequence.shape[0], current_sequence.shape[1]))\n",
        "    current_sequence = current_sequence / float(len(unique_notes))  # Normalize\n",
        "\n",
        "    # Predict the next note probabilities\n",
        "    predicted_probs = model.predict(current_sequence, verbose=0).flatten()\n",
        "    predicted_note_int = sample_with_temperature(predicted_probs, temperature)\n",
        "\n",
        "    # Append the predicted note\n",
        "    generated_notes.append(predicted_note_int)\n",
        "\n",
        "    # Update the sequence\n",
        "    current_sequence = np.append(current_sequence[0, 1:], [[predicted_note_int]], axis=0)\n",
        "\n",
        "# Convert generated notes back to note names\n",
        "generated_notes_names = [unique_notes[note_int] for note_int in generated_notes]\n",
        "print(\"Generated notes:\", generated_notes_names)\n",
        "\n",
        "# Convert the generated notes to a MIDI file\n",
        "from music21 import stream, note\n",
        "\n",
        "def create_midi_from_notes(notes, output_path):\n",
        "    midi_stream = stream.Stream()\n",
        "    for n in notes:\n",
        "        if n == \"rest\":\n",
        "            midi_stream.append(note.Rest())\n",
        "        else:\n",
        "            midi_stream.append(note.Note(n))\n",
        "    midi_stream.write('midi', fp=output_path)\n",
        "\n",
        "# Save the generated notes as a MIDI file\n",
        "output_midi_path = \"/content/drive/My Drive/emopia_project/generated_sad_music_with_diversity.mid\"\n",
        "create_midi_from_notes(generated_notes_names, output_midi_path)\n",
        "print(f\"Generated sad music with diversity saved to {output_midi_path}!\")\n"
      ],
      "metadata": {
        "colab": {
          "base_uri": "https://localhost:8080/"
        },
        "id": "mVQbg0Q-F8t8",
        "outputId": "62e3c9d1-d5bf-4623-92fa-8825235fc863"
      },
      "execution_count": null,
      "outputs": [
        {
          "output_type": "stream",
          "name": "stdout",
          "text": [
            "Sad model loaded!\n",
            "Seed sequence selected!\n",
            "Generated notes: ['A4', 'B-4', 'A4', 'B-4', 'E5', 'G1', 'E5', 'B-4', 'A2', 'B-4', 'B4', 'A4', 'B3', 'A4', 'C#5', 'A4', 'D5', 'A3', 'D5', 'A3', 'A4', 'D2', 'A4', 'A4', 'A4', 'C#5', 'A4', 'A4', 'C#4', 'A4', 'B4', 'A4', 'C#4', 'B-4', 'B-4', 'A4', 'A4', 'B4', 'C#5', 'A4', 'F4', 'A4', 'C#6', 'C#5', 'F4', 'A2', 'E4', 'F#5', 'G1', 'B4', 'A4', 'A4', 'A4', 'A4', 'E4', 'A4', 'A4', 'C5', 'A4', 'A4', 'A4', 'B-4', 'B-4', 'B4', 'D5', 'A4', 'E4', 'B4', 'B4', 'A4', 'C#5', 'A2', 'B-5', 'A4', 'C5', 'F#4', 'A4', 'A4', 'A4', 'B-4', 'A4', 'D5', 'E-3', 'A4', 'A4', 'B-4', 'A5', 'C#5', 'B-4', 'E5', 'B-4', 'A4', 'A4', 'B-4', 'A4', 'B4', 'B1', 'B-4', 'B-4', 'A2']\n",
            "Generated sad music with diversity saved to /content/drive/My Drive/emopia_project/generated_sad_music_with_diversity.mid!\n"
          ]
        }
      ]
    },
    {
      "cell_type": "code",
      "source": [
        "pip install pygame midi2audio\n"
      ],
      "metadata": {
        "colab": {
          "base_uri": "https://localhost:8080/"
        },
        "id": "chELFDsZHDUp",
        "outputId": "51f2c54a-bac9-4692-f54a-926a48ee301b"
      },
      "execution_count": null,
      "outputs": [
        {
          "output_type": "stream",
          "name": "stdout",
          "text": [
            "Requirement already satisfied: pygame in /usr/local/lib/python3.11/dist-packages (2.6.1)\n",
            "Collecting midi2audio\n",
            "  Downloading midi2audio-0.1.1-py2.py3-none-any.whl.metadata (5.7 kB)\n",
            "Downloading midi2audio-0.1.1-py2.py3-none-any.whl (8.7 kB)\n",
            "Installing collected packages: midi2audio\n",
            "Successfully installed midi2audio-0.1.1\n"
          ]
        }
      ]
    },
    {
      "cell_type": "code",
      "source": [
        "from IPython.display import Audio\n",
        "\n",
        "# Use the MIDI file to generate sound\n",
        "!apt-get install -y timidity  # Install timidity if not already installed\n",
        "!timidity {output_midi_path} -Ow -o output.wav\n",
        "Audio(\"output.wav\")\n"
      ],
      "metadata": {
        "colab": {
          "base_uri": "https://localhost:8080/",
          "height": 1000
        },
        "id": "Q5oz1qP3HCZl",
        "outputId": "d85680b0-a523-4454-9867-7f1e1478a9e3"
      },
      "execution_count": null,
      "outputs": [
        {
          "output_type": "stream",
          "name": "stdout",
          "text": [
            "Reading package lists... Done\n",
            "Building dependency tree... Done\n",
            "Reading state information... Done\n",
            "The following additional packages will be installed:\n",
            "  fluid-soundfont-gm libao-common libao4\n",
            "Suggested packages:\n",
            "  fluid-soundfont-gs libaudio2 libsndio6.1 freepats pmidi timidity-daemon\n",
            "The following NEW packages will be installed:\n",
            "  fluid-soundfont-gm libao-common libao4 timidity\n",
            "0 upgraded, 4 newly installed, 0 to remove and 49 not upgraded.\n",
            "Need to get 130 MB of archives.\n",
            "After this operation, 151 MB of additional disk space will be used.\n",
            "Get:1 http://archive.ubuntu.com/ubuntu jammy/universe amd64 fluid-soundfont-gm all 3.1-5.3 [130 MB]\n",
            "Get:2 http://archive.ubuntu.com/ubuntu jammy/main amd64 libao-common all 1.2.2+20180113-1.1ubuntu3 [6,568 B]\n",
            "Get:3 http://archive.ubuntu.com/ubuntu jammy/main amd64 libao4 amd64 1.2.2+20180113-1.1ubuntu3 [35.2 kB]\n",
            "Get:4 http://archive.ubuntu.com/ubuntu jammy-updates/universe amd64 timidity amd64 2.14.0-8ubuntu1.22.04.1 [681 kB]\n",
            "Fetched 130 MB in 6s (22.4 MB/s)\n",
            "Selecting previously unselected package fluid-soundfont-gm.\n",
            "(Reading database ... 124565 files and directories currently installed.)\n",
            "Preparing to unpack .../fluid-soundfont-gm_3.1-5.3_all.deb ...\n",
            "Unpacking fluid-soundfont-gm (3.1-5.3) ...\n",
            "Selecting previously unselected package libao-common.\n",
            "Preparing to unpack .../libao-common_1.2.2+20180113-1.1ubuntu3_all.deb ...\n",
            "Unpacking libao-common (1.2.2+20180113-1.1ubuntu3) ...\n",
            "Selecting previously unselected package libao4:amd64.\n",
            "Preparing to unpack .../libao4_1.2.2+20180113-1.1ubuntu3_amd64.deb ...\n",
            "Unpacking libao4:amd64 (1.2.2+20180113-1.1ubuntu3) ...\n",
            "Selecting previously unselected package timidity.\n",
            "Preparing to unpack .../timidity_2.14.0-8ubuntu1.22.04.1_amd64.deb ...\n",
            "Unpacking timidity (2.14.0-8ubuntu1.22.04.1) ...\n",
            "Setting up libao-common (1.2.2+20180113-1.1ubuntu3) ...\n",
            "Setting up libao4:amd64 (1.2.2+20180113-1.1ubuntu3) ...\n",
            "Setting up fluid-soundfont-gm (3.1-5.3) ...\n",
            "update-alternatives: using /usr/share/sounds/sf2/FluidR3_GM.sf2 to provide /usr/share/sounds/sf2/default-GM.sf2 (default-GM.sf2) in auto mode\n",
            "update-alternatives: using /usr/share/sounds/sf2/FluidR3_GM.sf2 to provide /usr/share/sounds/sf3/default-GM.sf3 (default-GM.sf3) in auto mode\n",
            "Setting up timidity (2.14.0-8ubuntu1.22.04.1) ...\n",
            "Processing triggers for man-db (2.10.2-1) ...\n",
            "Processing triggers for mailcap (3.70+nmu1ubuntu1) ...\n",
            "Processing triggers for libc-bin (2.35-0ubuntu3.4) ...\n",
            "/sbin/ldconfig.real: /usr/local/lib/libtcm.so.1 is not a symbolic link\n",
            "\n",
            "/sbin/ldconfig.real: /usr/local/lib/libur_adapter_opencl.so.0 is not a symbolic link\n",
            "\n",
            "/sbin/ldconfig.real: /usr/local/lib/libtbbmalloc_proxy.so.2 is not a symbolic link\n",
            "\n",
            "/sbin/ldconfig.real: /usr/local/lib/libtbbmalloc.so.2 is not a symbolic link\n",
            "\n",
            "/sbin/ldconfig.real: /usr/local/lib/libur_loader.so.0 is not a symbolic link\n",
            "\n",
            "/sbin/ldconfig.real: /usr/local/lib/libtbbbind.so.3 is not a symbolic link\n",
            "\n",
            "/sbin/ldconfig.real: /usr/local/lib/libur_adapter_level_zero.so.0 is not a symbolic link\n",
            "\n",
            "/sbin/ldconfig.real: /usr/local/lib/libtbb.so.12 is not a symbolic link\n",
            "\n",
            "/sbin/ldconfig.real: /usr/local/lib/libtbbbind_2_0.so.3 is not a symbolic link\n",
            "\n",
            "/sbin/ldconfig.real: /usr/local/lib/libtcm_debug.so.1 is not a symbolic link\n",
            "\n",
            "/sbin/ldconfig.real: /usr/local/lib/libumf.so.0 is not a symbolic link\n",
            "\n",
            "/sbin/ldconfig.real: /usr/local/lib/libhwloc.so.15 is not a symbolic link\n",
            "\n",
            "/sbin/ldconfig.real: /usr/local/lib/libtbbbind_2_5.so.3 is not a symbolic link\n",
            "\n",
            "Playing /content/drive/My\n",
            "MIDI file: /content/drive/My\n",
            "/content/drive/My: No such file or directory\n",
            "Playing Drive/emopia_project/generated_sad_music_with_diversity.mid\n",
            "MIDI file: Drive/emopia_project/generated_sad_music_with_diversity.mid\n",
            "Drive/emopia_project/generated_sad_music_with_diversity.mid: No such file or directory\n"
          ]
        },
        {
          "output_type": "execute_result",
          "data": {
            "text/plain": [
              "<IPython.lib.display.Audio object>"
            ],
            "text/html": [
              "\n",
              "                <audio  controls=\"controls\" >\n",
              "                    <source src=\"data:audio/x-wav;base64,UklGRiQAAABXQVZFZm10IBAAAAABAAIARKwAABCxAgAEABAAZGF0YQAAAAA=\" type=\"audio/x-wav\" />\n",
              "                    Your browser does not support the audio element.\n",
              "                </audio>\n",
              "              "
            ]
          },
          "metadata": {},
          "execution_count": 20
        }
      ]
    }
  ]
}